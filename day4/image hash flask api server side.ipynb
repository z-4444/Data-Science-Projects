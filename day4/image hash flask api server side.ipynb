{
 "cells": [
  {
   "cell_type": "code",
   "execution_count": null,
   "id": "5e278943",
   "metadata": {},
   "outputs": [
    {
     "name": "stdout",
     "output_type": "stream",
     "text": [
      " * Serving Flask app \"__main__\" (lazy loading)\n",
      " * Environment: production\n",
      "\u001b[31m   WARNING: This is a development server. Do not use it in a production deployment.\u001b[0m\n",
      "\u001b[2m   Use a production WSGI server instead.\u001b[0m\n",
      " * Debug mode: off\n"
     ]
    },
    {
     "name": "stderr",
     "output_type": "stream",
     "text": [
      " * Running on all addresses.\n",
      "   WARNING: This is a development server. Do not use it in a production deployment.\n",
      " * Running on http://172.16.10.138:2000/ (Press CTRL+C to quit)\n",
      "[2023-02-16 17:23:07,344] ERROR in app: Exception on / [POST]\n",
      "Traceback (most recent call last):\n",
      "  File \"/home/z-4444/anaconda3/lib/python3.9/site-packages/flask/app.py\", line 2447, in wsgi_app\n",
      "    response = self.full_dispatch_request()\n",
      "  File \"/home/z-4444/anaconda3/lib/python3.9/site-packages/flask/app.py\", line 1953, in full_dispatch_request\n",
      "    return self.finalize_request(rv)\n",
      "  File \"/home/z-4444/anaconda3/lib/python3.9/site-packages/flask/app.py\", line 1968, in finalize_request\n",
      "    response = self.make_response(rv)\n",
      "  File \"/home/z-4444/anaconda3/lib/python3.9/site-packages/flask/app.py\", line 2127, in make_response\n",
      "    raise TypeError(\n",
      "TypeError: The view function did not return a valid response. The return type must be a string, dict, tuple, Response instance, or WSGI callable, but it was a FileStorage.\n",
      "172.16.10.138 - - [16/Feb/2023 17:23:07] \"POST / HTTP/1.1\" 500 -\n"
     ]
    }
   ],
   "source": [
    "\n",
    "# Server Side\n",
    "import traceback\n",
    "from flask import Flask\n",
    "from flask import request\n",
    "\n",
    "import hashlib\n",
    "\n",
    "\n",
    "\n",
    "def do_process(n):\n",
    "    return str(hashlib.md5(n).hexdigest())\n",
    "\n",
    "app = Flask(__name__)\n",
    "@app.route('/', methods=['GET', 'POST'])\n",
    "def test():\n",
    "    try:\n",
    "        if request.method=='POST':\n",
    "            n = request.files[\"media\"]\n",
    "        return (n)\n",
    "    \n",
    "    except Exception as e:\n",
    "        return str(tracack.format_exc())\n",
    "\n",
    "\n",
    "    \n",
    "\n",
    "\n",
    "# im_path = \"your image path\"\n",
    "\n",
    "# with open(im_path, \"rb\") as f:\n",
    "#     im_bytes = f.read()\n",
    "\n",
    "# im_hash = str(hashlib.md5(im_bytes).hexdigest())\n",
    "\n",
    "# print(im_hash)\n",
    "    \n",
    "app.run(host='0.0.0.0', port=2000)"
   ]
  },
  {
   "cell_type": "code",
   "execution_count": null,
   "id": "92d0d776",
   "metadata": {},
   "outputs": [],
   "source": []
  }
 ],
 "metadata": {
  "kernelspec": {
   "display_name": "Python 3 (ipykernel)",
   "language": "python",
   "name": "python3"
  },
  "language_info": {
   "codemirror_mode": {
    "name": "ipython",
    "version": 3
   },
   "file_extension": ".py",
   "mimetype": "text/x-python",
   "name": "python",
   "nbconvert_exporter": "python",
   "pygments_lexer": "ipython3",
   "version": "3.9.13"
  }
 },
 "nbformat": 4,
 "nbformat_minor": 5
}
