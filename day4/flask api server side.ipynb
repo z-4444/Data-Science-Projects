{
 "cells": [
  {
   "cell_type": "code",
   "execution_count": null,
   "id": "0ecfd6db",
   "metadata": {},
   "outputs": [],
   "source": [
    "\n",
    "# Server Side\n",
    "import traceback\n",
    "from flask import Flask\n",
    "from flask import request\n",
    "\n",
    "\n",
    "def do_sum(n):\n",
    "    return n + n\n",
    "\n",
    "def do_process(n):\n",
    "    return n * n\n",
    "\n",
    "app = Flask(__name__)\n",
    "@app.route('/test', methods=['GET', 'POST'])\n",
    "def test():\n",
    "    try:\n",
    "        n = request.form[\"n\"]\n",
    "#         return n\n",
    "#         return type(n)\n",
    "        result = do_process(int(n))\n",
    "        return str(result)\n",
    "    \n",
    "    except Exception as e:\n",
    "        return str(tracback.format_exc())\n",
    "\n",
    "\n",
    "app.run(host='0.0.0.0', port=2000)"
   ]
  }
 ],
 "metadata": {
  "kernelspec": {
   "display_name": "Python 3 (ipykernel)",
   "language": "python",
   "name": "python3"
  },
  "language_info": {
   "codemirror_mode": {
    "name": "ipython",
    "version": 3
   },
   "file_extension": ".py",
   "mimetype": "text/x-python",
   "name": "python",
   "nbconvert_exporter": "python",
   "pygments_lexer": "ipython3",
   "version": "3.9.13"
  }
 },
 "nbformat": 4,
 "nbformat_minor": 5
}
