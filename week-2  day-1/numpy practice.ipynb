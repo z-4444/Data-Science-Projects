{
 "cells": [
  {
   "cell_type": "code",
   "execution_count": 2,
   "id": "b7836f9a",
   "metadata": {},
   "outputs": [
    {
     "data": {
      "text/plain": [
       "array([[0, 1, 2],\n",
       "       [3, 4, 5],\n",
       "       [6, 7, 8]])"
      ]
     },
     "execution_count": 2,
     "metadata": {},
     "output_type": "execute_result"
    }
   ],
   "source": [
    "import numpy as np\n",
    "arr = np.arange(9).reshape(3, 3)\n",
    "arr"
   ]
  },
  {
   "cell_type": "code",
   "execution_count": 2,
   "id": "6b5cef9e",
   "metadata": {},
   "outputs": [],
   "source": [
    "import numpy as np\n",
    "\n",
    "arr = np.array([[[1, 2, 3], [4, 5, 6]],\n",
    "                [[7, 8, 9], [10, 11, 12]]])\n"
   ]
  },
  {
   "cell_type": "code",
   "execution_count": 3,
   "id": "d76448ed",
   "metadata": {},
   "outputs": [
    {
     "data": {
      "text/plain": [
       "2"
      ]
     },
     "execution_count": 3,
     "metadata": {},
     "output_type": "execute_result"
    }
   ],
   "source": [
    "arr2 = np.array([[1,1,1],[2,2,2]])\n",
    "arr2.ndim"
   ]
  },
  {
   "cell_type": "code",
   "execution_count": 4,
   "id": "c0a2d96b",
   "metadata": {},
   "outputs": [
    {
     "name": "stdout",
     "output_type": "stream",
     "text": [
      "3\n"
     ]
    },
    {
     "data": {
      "text/plain": [
       "1100"
      ]
     },
     "execution_count": 4,
     "metadata": {},
     "output_type": "execute_result"
    }
   ],
   "source": [
    "arr3 = np.array([[[1,1,1],[2,2,2]],[[3,3,1100],[4,4,4]]])\n",
    "print(arr3.ndim)\n",
    "arr3[1,0,2]"
   ]
  },
  {
   "cell_type": "code",
   "execution_count": 5,
   "id": "40ec04d5",
   "metadata": {},
   "outputs": [
    {
     "name": "stdout",
     "output_type": "stream",
     "text": [
      "4\n"
     ]
    },
    {
     "data": {
      "text/plain": [
       "10101"
      ]
     },
     "execution_count": 5,
     "metadata": {},
     "output_type": "execute_result"
    }
   ],
   "source": [
    "arr4 = np.array([[[[1,1,1],[2,2,2]],[[3,3,1100],[4,4,4]]],[[[1,1,1],[2,2,2]],[[3,3,10101],[4,4,4]]]])\n",
    "print(arr4.ndim)\n",
    "arr4[1,1,0,2]"
   ]
  },
  {
   "cell_type": "code",
   "execution_count": 6,
   "id": "09fa4178",
   "metadata": {},
   "outputs": [
    {
     "name": "stdout",
     "output_type": "stream",
     "text": [
      "s: [[2]\n",
      " [7]]\n",
      "type of  s_new :  <class 'numpy.ndarray'>\n",
      "2\n",
      "<class 'numpy.int64'>\n"
     ]
    }
   ],
   "source": [
    "arr = np.array([[1, 2, 3, 4, 5], [6, 7, 8, 9, 10]])\n",
    "new = arr[0, 1]\n",
    "s_new = arr[0:2,1:2]\n",
    "print('s:',s_new)\n",
    "print('type of  s_new : ',type(s_new))\n",
    "print(new)\n",
    "print(type(new))"
   ]
  },
  {
   "cell_type": "code",
   "execution_count": 16,
   "id": "52fed24c",
   "metadata": {},
   "outputs": [
    {
     "name": "stdout",
     "output_type": "stream",
     "text": [
      "Return type: <class 'enumerate'>\n",
      "list 1 : [(0, 'eat'), (1, 'sleep'), (2, 'repeat')]\n",
      "[(0, 'g'), (1, 'e'), (2, 'e'), (3, 'k')]\n",
      "{0: 'g', 1: 'e', 2: 'e', 3: 'k'}\n"
     ]
    }
   ],
   "source": [
    "l1 = [\"eat\", \"sleep\", \"repeat\"]\n",
    "s1 = \"geek\"\n",
    "  \n",
    "# creating enumerate objects\n",
    "obj1 = enumerate(l1)\n",
    "obj2 = enumerate(s1)\n",
    "  \n",
    "print (\"Return type:\", type(obj1))\n",
    "print (\"list 1 :\",list(enumerate(l1)))\n",
    "  \n",
    "# changing start index to 2 from 0\n",
    "print (list(enumerate(s1)))\n",
    "\n",
    "print({ k : v for k, v in enumerate(s1) })"
   ]
  },
  {
   "cell_type": "code",
   "execution_count": 21,
   "id": "e1ea2e8a",
   "metadata": {},
   "outputs": [
    {
     "name": "stdout",
     "output_type": "stream",
     "text": [
      "array : [[1 2 3]\n",
      " [4 5 6]] datatype :  2\n"
     ]
    }
   ],
   "source": [
    "a = ([1,2,3], [4,5,6])\n",
    "b = np.empty_like(a)\n",
    "print(\"array :\",b ,\"datatype : \", b.ndim)"
   ]
  },
  {
   "cell_type": "code",
   "execution_count": 25,
   "id": "885c998f",
   "metadata": {},
   "outputs": [
    {
     "name": "stdout",
     "output_type": "stream",
     "text": [
      "[[0 0 0 0 0]\n",
      " [1 0 0 0 0]\n",
      " [0 2 0 0 0]\n",
      " [0 0 3 0 0]\n",
      " [0 0 0 4 0]]\n",
      "as [0 1 2 3]\n"
     ]
    }
   ],
   "source": [
    "Z = np.diag(1+np.arange(4), k = -1)\n",
    "print (Z)\n",
    "print(\"as\",np.arange(4))"
   ]
  },
  {
   "cell_type": "code",
   "execution_count": 2,
   "id": "1659f070",
   "metadata": {},
   "outputs": [
    {
     "data": {
      "text/plain": [
       "array([4])"
      ]
     },
     "execution_count": 2,
     "metadata": {},
     "output_type": "execute_result"
    }
   ],
   "source": [
    "# array([0, 1, 2, 3])\n",
    "np.diag([[1, 2, 3],[4,5,6]],k=-1)\n",
    "# np.arange(4)"
   ]
  },
  {
   "cell_type": "code",
   "execution_count": 10,
   "id": "fd104052",
   "metadata": {},
   "outputs": [
    {
     "data": {
      "text/plain": [
       "array([[[1, 2, 3, 1, 2, 3],\n",
       "        [1, 2, 3, 1, 2, 3],\n",
       "        [1, 2, 3, 1, 2, 3]],\n",
       "\n",
       "       [[1, 2, 3, 1, 2, 3],\n",
       "        [1, 2, 3, 1, 2, 3],\n",
       "        [1, 2, 3, 1, 2, 3]],\n",
       "\n",
       "       [[1, 2, 3, 1, 2, 3],\n",
       "        [1, 2, 3, 1, 2, 3],\n",
       "        [1, 2, 3, 1, 2, 3]]])"
      ]
     },
     "execution_count": 10,
     "metadata": {},
     "output_type": "execute_result"
    }
   ],
   "source": [
    "arr = np.array([1,2,3])\n",
    "np.tile(arr,(3,3,2))"
   ]
  },
  {
   "cell_type": "code",
   "execution_count": 13,
   "id": "43b4f0fd",
   "metadata": {},
   "outputs": [
    {
     "name": "stdout",
     "output_type": "stream",
     "text": [
      "[[[ 20  20  20 255]\n",
      "  [ 20  20  20 255]\n",
      "  [ 20  20  20 255]\n",
      "  ...\n",
      "  [193 193 193 255]\n",
      "  [241 241 241 255]\n",
      "  [241 241 241 255]]\n",
      "\n",
      " [[ 20  20  20 255]\n",
      "  [ 20  20  20 255]\n",
      "  [ 20  20  20 255]\n",
      "  ...\n",
      "  [193 193 193 255]\n",
      "  [241 241 241 255]\n",
      "  [241 241 241 255]]\n",
      "\n",
      " [[ 20  20  20 255]\n",
      "  [ 20  20  20 255]\n",
      "  [ 20  20  20 255]\n",
      "  ...\n",
      "  [193 193 193 255]\n",
      "  [241 241 241 255]\n",
      "  [241 241 241 255]]\n",
      "\n",
      " ...\n",
      "\n",
      " [[ 20  20  20 255]\n",
      "  [ 20  20  20 255]\n",
      "  [ 20  20  20 255]\n",
      "  ...\n",
      "  [255 255 255 255]\n",
      "  [255 255 255 255]\n",
      "  [255 255 255 255]]\n",
      "\n",
      " [[ 20  20  20 255]\n",
      "  [ 20  20  20 255]\n",
      "  [ 20  20  20 255]\n",
      "  ...\n",
      "  [255 255 255 255]\n",
      "  [255 255 255 255]\n",
      "  [255 255 255 255]]\n",
      "\n",
      " [[ 20  20  20 255]\n",
      "  [ 20  20  20 255]\n",
      "  [ 20  20  20 255]\n",
      "  ...\n",
      "  [255 255 255 255]\n",
      "  [255 255 255 255]\n",
      "  [255 255 255 255]]]\n"
     ]
    }
   ],
   "source": [
    "from PIL import Image\n",
    "\n",
    "# Load image as RGBA\n",
    "img = Image.open('/home/z-4444/DS_trainning/day4/im.png').convert('RGBA')\n",
    "\n",
    "# Convert to NumPy array\n",
    "img_array = np.array(img)\n",
    "print(img_array)"
   ]
  },
  {
   "cell_type": "code",
   "execution_count": 17,
   "id": "581bc9a7",
   "metadata": {},
   "outputs": [
    {
     "name": "stdout",
     "output_type": "stream",
     "text": [
      "[False  True False  True False False]\n"
     ]
    },
    {
     "data": {
      "text/plain": [
       "array([ 1, -2,  4, -3,  5,  6])"
      ]
     },
     "execution_count": 17,
     "metadata": {},
     "output_type": "execute_result"
    }
   ],
   "source": [
    "arr = np.array([1,2,4,3,5,6])\n",
    "mask = (arr == 2) | (arr == 3)\n",
    "print(mask)\n",
    "arr[mask] *= -1\n",
    "arr"
   ]
  },
  {
   "cell_type": "code",
   "execution_count": 25,
   "id": "3c8bbbd2",
   "metadata": {},
   "outputs": [
    {
     "name": "stdout",
     "output_type": "stream",
     "text": [
      "[2 9 0 0 5 6 5 8 6 2]\n",
      "[False False False False  True  True  True False  True False]\n",
      "[ 2  9  0  0 -5 -6 -5  8 -6  2]\n"
     ]
    }
   ],
   "source": [
    "arr = (np.random.rand(10)*10).astype(int)\n",
    "print(arr)\n",
    "mask = (arr>3) & (arr<8)\n",
    "print(mask)\n",
    "arr[mask] *= -1\n",
    "print(arr)"
   ]
  },
  {
   "cell_type": "code",
   "execution_count": 32,
   "id": "46565129",
   "metadata": {},
   "outputs": [
    {
     "data": {
      "text/plain": [
       "array([ 1.,  2., -2., -1.])"
      ]
     },
     "execution_count": 32,
     "metadata": {},
     "output_type": "execute_result"
    }
   ],
   "source": [
    "arr = np.array([1,2.23,-1.23,-0.12])\n",
    "np.floor(arr)"
   ]
  },
  {
   "cell_type": "code",
   "execution_count": 4,
   "id": "aedaf7e8",
   "metadata": {},
   "outputs": [
    {
     "ename": "ValueError",
     "evalue": "Error parsing datetime string \"July\" at position 0",
     "output_type": "error",
     "traceback": [
      "\u001b[0;31m---------------------------------------------------------------------------\u001b[0m",
      "\u001b[0;31mValueError\u001b[0m                                Traceback (most recent call last)",
      "\u001b[0;32m/tmp/ipykernel_4411/1577079018.py\u001b[0m in \u001b[0;36m<module>\u001b[0;34m\u001b[0m\n\u001b[0;32m----> 1\u001b[0;31m \u001b[0mnp\u001b[0m\u001b[0;34m.\u001b[0m\u001b[0mdatetime64\u001b[0m\u001b[0;34m(\u001b[0m\u001b[0;34m\"July\"\u001b[0m\u001b[0;34m,\u001b[0m\u001b[0;34m\"M\"\u001b[0m\u001b[0;34m)\u001b[0m\u001b[0;34m\u001b[0m\u001b[0;34m\u001b[0m\u001b[0m\n\u001b[0m",
      "\u001b[0;31mValueError\u001b[0m: Error parsing datetime string \"July\" at position 0"
     ]
    }
   ],
   "source": [
    "np.datetime64(\"July\",\"M\")"
   ]
  }
 ],
 "metadata": {
  "kernelspec": {
   "display_name": "Python 3 (ipykernel)",
   "language": "python",
   "name": "python3"
  },
  "language_info": {
   "codemirror_mode": {
    "name": "ipython",
    "version": 3
   },
   "file_extension": ".py",
   "mimetype": "text/x-python",
   "name": "python",
   "nbconvert_exporter": "python",
   "pygments_lexer": "ipython3",
   "version": "3.9.13"
  }
 },
 "nbformat": 4,
 "nbformat_minor": 5
}
