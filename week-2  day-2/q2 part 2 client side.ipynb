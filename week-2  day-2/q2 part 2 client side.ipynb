{
 "cells": [
  {
   "cell_type": "code",
   "execution_count": 11,
   "id": "d61403e9",
   "metadata": {},
   "outputs": [
    {
     "name": "stdout",
     "output_type": "stream",
     "text": [
      "Traceback (most recent call last):\n",
      "  File \"/tmp/ipykernel_20461/3808121563.py\", line 72, in test\n",
      "    return str(do_process(m))\n",
      "  File \"/tmp/ipykernel_20461/3808121563.py\", line 10, in do_process\n",
      "    m.astype(int)\n",
      "AttributeError: 'str' object has no attribute 'astype'\n",
      "\n"
     ]
    }
   ],
   "source": [
    "import requests\n",
    "import numpy as np\n",
    "\n",
    "\n",
    "api_url = \"http://172.16.10.138:3000/test\"\n",
    "\n",
    "arr = [[0, 2, 1, 0, 0], [0, 0, 0, 3, 4], [0, 0, 0, 0, 0], [0, 0, 0, 0,0], [0, 0, 0, 0, 0]]\n",
    "# arr = 5\n",
    "    \n",
    "data = {\n",
    "    \"m\" : arr\n",
    "}\n",
    "response = requests.post(api_url, data=data)\n",
    "\n",
    "\n",
    "# print(response)\n",
    "print(response.text)\n"
   ]
  }
 ],
 "metadata": {
  "kernelspec": {
   "display_name": "Python 3 (ipykernel)",
   "language": "python",
   "name": "python3"
  },
  "language_info": {
   "codemirror_mode": {
    "name": "ipython",
    "version": 3
   },
   "file_extension": ".py",
   "mimetype": "text/x-python",
   "name": "python",
   "nbconvert_exporter": "python",
   "pygments_lexer": "ipython3",
   "version": "3.9.13"
  }
 },
 "nbformat": 4,
 "nbformat_minor": 5
}
