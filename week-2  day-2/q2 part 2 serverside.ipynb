{
 "cells": [
  {
   "cell_type": "code",
   "execution_count": null,
   "id": "a642328b",
   "metadata": {},
   "outputs": [
    {
     "name": "stdout",
     "output_type": "stream",
     "text": [
      " * Serving Flask app \"__main__\" (lazy loading)\n",
      " * Environment: production\n",
      "\u001b[31m   WARNING: This is a development server. Do not use it in a production deployment.\u001b[0m\n",
      "\u001b[2m   Use a production WSGI server instead.\u001b[0m\n",
      " * Debug mode: off\n"
     ]
    },
    {
     "name": "stderr",
     "output_type": "stream",
     "text": [
      " * Running on all addresses.\n",
      "   WARNING: This is a development server. Do not use it in a production deployment.\n",
      " * Running on http://172.16.10.138:3000/ (Press CTRL+C to quit)\n",
      "172.16.10.138 - - [21/Feb/2023 16:54:31] \"POST /test HTTP/1.1\" 200 -\n"
     ]
    }
   ],
   "source": [
    "import math\n",
    "import traceback\n",
    "from flask import Flask\n",
    "from flask import request\n",
    "import numpy as np\n",
    "from fractions import Fraction\n",
    "\n",
    "\n",
    "def do_process(m):\n",
    "    m.astype(int)\n",
    "    m_size = len(m)\n",
    "    row_sum = [sum(r) for r in m]\n",
    "    print(row_sum)\n",
    "    if row_sum[0] == 0:\n",
    "        return [1, 1]\n",
    "#     k = list(i for i in range(len(m))\n",
    "    dic_all_row_zero = dict(zip(list(i for i in range(len(m))),list(0 if i == 0 else 1 for i in row_sum)))\n",
    "    \n",
    "    dic_all_row_zero = {k: v for k, v in sorted(dic_all_row_zero.items(), key=lambda item: item[1])}\n",
    "    \n",
    "    n_rows_all_zeros = list(dic_all_row_zero.values()).count(0)\n",
    "    \n",
    "    print(\"n_rows_all_zeros : \",n_rows_all_zeros)\n",
    "    \n",
    "    n_rows_all_non_zeros = len(m) - n_rows_all_zeros\n",
    "    \n",
    "    print(\"n_rows_all_non_zeros\",n_rows_all_non_zeros)\n",
    "    arr = np.array(m)\n",
    "    \n",
    "#     print(arr)\n",
    "    \n",
    "    arr_r = arr[list(dic_all_row_zero.keys()), :]\n",
    "#     print(arr_r)\n",
    "    arr_c = arr_r[:, list(dic_all_row_zero.keys())]\n",
    "#     print(arr_c)\n",
    "    new_r_sum = [sum(r) for r in arr_c]\n",
    "    \n",
    "    new_m = []\n",
    "    for i in range(len(arr_c)):\n",
    "        new_m.append(list(map(lambda x: 0 if new_r_sum[i] == 0 \n",
    "                            else x / new_r_sum[i], arr_c[i])))\n",
    "\n",
    "    newarr = np.array(new_m)\n",
    "#     print(newarr)\n",
    "    \n",
    "    Q = newarr[n_rows_all_zeros:, n_rows_all_zeros:]\n",
    "    print(\"Q: \",Q)\n",
    "    R = newarr[n_rows_all_zeros:, :n_rows_all_zeros]\n",
    "    print(\"R: \",R)\n",
    "    ImQ = np.subtract(np.identity(n_rows_all_non_zeros), Q)\n",
    "    print(\"ImQ: \",ImQ)\n",
    "    F = np.linalg.inv(ImQ)\n",
    "    print(\"F: \",F)\n",
    "    FR = np.matmul(F, R)\n",
    "    FRf = []\n",
    "    for i in range(n_rows_all_non_zeros):\n",
    "        FRf.append([Fraction.from_float(x).limit_denominator(max_denominator = 2**32) for x in FR[i]])\n",
    "\n",
    "    print(FRf)\n",
    "    maxd = max(list(map(lambda x: x.denominator, FRf[0])))\n",
    "    indv = list(map(lambda x: (x*maxd).numerator, FRf[0]))\n",
    "    return list(indv + [maxd])\n",
    "\n",
    "#     return bb**2\n",
    "\n",
    "\n",
    "app = Flask(__name__)\n",
    "@app.route('/test', methods=['GET', 'POST'])\n",
    "def test():\n",
    "    try:\n",
    "        m = request.form[\"m\"]\n",
    "        return str(do_process(m))\n",
    "#         return do_process(bb)\n",
    "    except Exception as e:\n",
    "        return str(traceback.format_exc())\n",
    "\n",
    "\n",
    "app.run(host='0.0.0.0', port=3000)"
   ]
  }
 ],
 "metadata": {
  "kernelspec": {
   "display_name": "Python 3 (ipykernel)",
   "language": "python",
   "name": "python3"
  },
  "language_info": {
   "codemirror_mode": {
    "name": "ipython",
    "version": 3
   },
   "file_extension": ".py",
   "mimetype": "text/x-python",
   "name": "python",
   "nbconvert_exporter": "python",
   "pygments_lexer": "ipython3",
   "version": "3.9.13"
  }
 },
 "nbformat": 4,
 "nbformat_minor": 5
}
