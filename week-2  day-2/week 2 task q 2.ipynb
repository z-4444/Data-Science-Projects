{
 "cells": [
  {
   "cell_type": "code",
   "execution_count": 54,
   "id": "e9445705",
   "metadata": {},
   "outputs": [],
   "source": [
    "import numpy as np\n",
    "from fractions import Fraction\n",
    "\n",
    "def solution(m):\n",
    "    # matrix attributes\n",
    "    m_size = len(m)\n",
    "    if m_size >100:\n",
    "        return -1\n",
    "    row_sum = [sum(r) for r in m]\n",
    "    \n",
    "    if row_sum[0] == 0:\n",
    "        return [1, 1]\n",
    "    \n",
    "    dic_all_row_zero = dict(zip(list(i for i in range(len(m))),list(0 if i == 0 else 1 for i in row_sum)))\n",
    "    \n",
    "    dic_all_row_zero = {k: v for k, v in sorted(dic_all_row_zero.items(), key=lambda item: item[1])}\n",
    "    \n",
    "    n_rows_all_zeros = list(dic_all_row_zero.values()).count(0)\n",
    "    \n",
    "    print(\"n_rows_all_zeros : \",n_rows_all_zeros)\n",
    "    \n",
    "    n_rows_all_non_zeros = len(m) - n_rows_all_zeros\n",
    "    \n",
    "    print(\"n_rows_all_non_zeros\",n_rows_all_non_zeros)\n",
    "    arr = np.array(m)\n",
    "    \n",
    "#     print(arr)\n",
    "    print(dic_all_row_zero.keys())\n",
    "    arr_r = arr[list(dic_all_row_zero.keys()), :]\n",
    "    print(arr_r)\n",
    "    arr_c = arr_r[:, list(dic_all_row_zero.keys())]\n",
    "#     print(arr_c)\n",
    "    new_r_sum = [sum(r) for r in arr_c]\n",
    "    \n",
    "    new_m = []\n",
    "    for i in range(len(arr_c)):\n",
    "        new_m.append(list(map(lambda x: 0 if new_r_sum[i] == 0 \n",
    "                            else x / new_r_sum[i], arr_c[i])))\n",
    "\n",
    "    newarr = np.array(new_m)\n",
    "    print(newarr)\n",
    "    \n",
    "    Q = newarr[n_rows_all_zeros:, n_rows_all_zeros:]\n",
    "    R = newarr[n_rows_all_zeros:, :n_rows_all_zeros]\n",
    "    ImQ = np.subtract(np.identity(n_rows_all_non_zeros), Q)\n",
    "    F = np.linalg.inv(ImQ)\n",
    "    FR = np.matmul(F, R)\n",
    "    FRf = []\n",
    "    for i in range(n_rows_all_non_zeros):\n",
    "        FRf.append([Fraction.from_float(x).limit_denominator(max_denominator = 2**32) for x in FR[i]])\n",
    "\n",
    "    print(FRf)\n",
    "    maxd = max(list(map(lambda x: x.denominator, FRf[0])))\n",
    "    indv = list(map(lambda x: (x*maxd).numerator, FRf[0]))\n",
    "    return list(indv + [maxd])\n"
   ]
  },
  {
   "cell_type": "code",
   "execution_count": 55,
   "id": "debdf1f2",
   "metadata": {},
   "outputs": [
    {
     "name": "stdout",
     "output_type": "stream",
     "text": [
      "n_rows_all_zeros :  3\n",
      "n_rows_all_non_zeros 2\n",
      "dict_keys([2, 3, 4, 0, 1])\n",
      "[[0 0 0 0 0]\n",
      " [0 0 0 0 0]\n",
      " [0 0 0 0 0]\n",
      " [0 2 1 0 0]\n",
      " [0 0 0 3 4]]\n",
      "[[0.         0.         0.         0.         0.        ]\n",
      " [0.         0.         0.         0.         0.        ]\n",
      " [0.         0.         0.         0.         0.        ]\n",
      " [0.33333333 0.         0.         0.         0.66666667]\n",
      " [0.         0.42857143 0.57142857 0.         0.        ]]\n",
      "[[Fraction(1, 3), Fraction(2, 7), Fraction(8, 21)], [Fraction(0, 1), Fraction(3, 7), Fraction(4, 7)]]\n"
     ]
    }
   ],
   "source": [
    "x = solution([[0, 2, 1, 0, 0], [0, 0, 0, 3, 4], [0, 0, 0, 0, 0], [0, 0, 0, 0,0], [0, 0, 0, 0, 0]])"
   ]
  },
  {
   "cell_type": "code",
   "execution_count": 42,
   "id": "814a4c09",
   "metadata": {},
   "outputs": [
    {
     "name": "stdout",
     "output_type": "stream",
     "text": [
      "[7, 6, 8, 21]\n"
     ]
    }
   ],
   "source": [
    "print(x)"
   ]
  }
 ],
 "metadata": {
  "kernelspec": {
   "display_name": "Python 3 (ipykernel)",
   "language": "python",
   "name": "python3"
  },
  "language_info": {
   "codemirror_mode": {
    "name": "ipython",
    "version": 3
   },
   "file_extension": ".py",
   "mimetype": "text/x-python",
   "name": "python",
   "nbconvert_exporter": "python",
   "pygments_lexer": "ipython3",
   "version": "3.9.13"
  }
 },
 "nbformat": 4,
 "nbformat_minor": 5
}
