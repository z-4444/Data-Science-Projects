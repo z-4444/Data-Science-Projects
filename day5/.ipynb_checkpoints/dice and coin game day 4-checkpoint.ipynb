{
 "cells": [
  {
   "cell_type": "code",
   "execution_count": 11,
   "id": "b7e627b5",
   "metadata": {},
   "outputs": [
    {
     "name": "stdout",
     "output_type": "stream",
     "text": [
      "tail\n"
     ]
    }
   ],
   "source": [
    "import random\n",
    "dice = random.randint(0,6)\n",
    "c = random.randint(0,1)\n",
    "coin = ['head','tail'] \n",
    "print(coin[0] if c == 0 else coin[1])\n"
   ]
  },
  {
   "cell_type": "code",
   "execution_count": null,
   "id": "37a7edc9",
   "metadata": {},
   "outputs": [],
   "source": [
    "import random\n",
    "class Game():\n",
    "    def __init__(self, player1, player2):\n",
    "        self.play1 = player1\n",
    "        self.play2 = player2\n",
    "    def rol_dice():\n",
    "        dice = random.randint(1,6)\n",
    "        return \n",
    "    def rol_coin():\n",
    "        return random.choice(['H','T'])\n",
    "    def cul_score(dice,coin):\n",
    "        \n",
    "    "
   ]
  }
 ],
 "metadata": {
  "kernelspec": {
   "display_name": "Python 3 (ipykernel)",
   "language": "python",
   "name": "python3"
  },
  "language_info": {
   "codemirror_mode": {
    "name": "ipython",
    "version": 3
   },
   "file_extension": ".py",
   "mimetype": "text/x-python",
   "name": "python",
   "nbconvert_exporter": "python",
   "pygments_lexer": "ipython3",
   "version": "3.9.13"
  }
 },
 "nbformat": 4,
 "nbformat_minor": 5
}
