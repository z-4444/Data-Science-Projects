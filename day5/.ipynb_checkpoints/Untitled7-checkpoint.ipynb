{
 "cells": [
  {
   "cell_type": "code",
   "execution_count": 5,
   "id": "245821bb",
   "metadata": {},
   "outputs": [
    {
     "name": "stdout",
     "output_type": "stream",
     "text": [
      "{'A': 0.45, 'D': 0.87, 'E': 0.87, 'F': 0.67, 'H': 0.69, 'I': 0.85, 'J': 0.6, 'K': 0.39, 'L': 0.44, 'M': 0.84, 'N': 0.72, 'P': 0.77, 'Q': 0.43, 'R': 0.71, 'S': 0.48, 'T': 0.49, 'U': 0.87, 'V': 0.45, 'W': 0.89, 'X': 0.87, 'Y': 0.84}\n"
     ]
    }
   ],
   "source": [
    "labels = ['A', 'B', 'C', 'D', 'E', 'F', 'G', 'H', 'I', 'J', 'K', 'L', 'M', 'N', 'O', 'P', 'Q', 'R', 'S', 'T', 'U', 'V', 'W', 'X', 'Y', 'Z']\n",
    "values = [0.45, 0.11, 0.26, 0.87, 0.87, 0.67, 0.11, 0.69, 0.85, 0.6, 0.39, 0.44, 0.84, 0.72, 0.01, 0.77, 0.43, 0.71, 0.48, 0.49, 0.87, 0.45, 0.89, 0.87, 0.84, 0.02]\n",
    "dic = dict(zip(labels,values))\n",
    "print({k:val for k, val in dic.items() if val > 0.3})"
   ]
  },
  {
   "cell_type": "code",
   "execution_count": 4,
   "id": "96448561",
   "metadata": {},
   "outputs": [
    {
     "name": "stdout",
     "output_type": "stream",
     "text": [
      "Hello World\n",
      "[('c', ['Karachi', 1]), ('a', ['Lahore', 2]), ('b', ['Multan', 3]), ('e', ['Islamabad', 4]), ('d', ['Quetta', 5])]\n"
     ]
    }
   ],
   "source": [
    "\n",
    "print(\"Hello World\")\n",
    "d = {\n",
    "    \"a\": [\"Lahore\", 2],\n",
    "    \"b\": [\"Multan\", 3],\n",
    "    \"c\": [\"Karachi\", 1],\n",
    "    \"d\": [\"Quetta\", 5],\n",
    "    \"e\": [\"Islamabad\", 4]\n",
    "}\n",
    "\n",
    "print(sorted(d.items(),key=lambda item: item[1][1]))"
   ]
  },
  {
   "cell_type": "code",
   "execution_count": 6,
   "id": "33d86cb6",
   "metadata": {},
   "outputs": [
    {
     "name": "stdout",
     "output_type": "stream",
     "text": [
      "current directory : /home/z-4444\n",
      "[]\n",
      "[]\n"
     ]
    }
   ],
   "source": [
    "import os\n",
    "import glob\n",
    "\n",
    "images_list = glob.glob(\"images/*.*\")\n",
    "labels_list = glob.glob(\"labels/*.*\")\n",
    "\n",
    "print(\"current directory :\",os.getcwd())\n",
    "\n",
    "print(images_list)\n",
    "print(labels_list)\n",
    "\n",
    "# if not os.path.exists(\"final\"):\n",
    "#     os.mkdir(\"final\")"
   ]
  }
 ],
 "metadata": {
  "kernelspec": {
   "display_name": "Python 3 (ipykernel)",
   "language": "python",
   "name": "python3"
  },
  "language_info": {
   "codemirror_mode": {
    "name": "ipython",
    "version": 3
   },
   "file_extension": ".py",
   "mimetype": "text/x-python",
   "name": "python",
   "nbconvert_exporter": "python",
   "pygments_lexer": "ipython3",
   "version": "3.9.13"
  }
 },
 "nbformat": 4,
 "nbformat_minor": 5
}
