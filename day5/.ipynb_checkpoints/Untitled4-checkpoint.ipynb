{
 "cells": [
  {
   "cell_type": "code",
   "execution_count": 9,
   "id": "1e1929b7",
   "metadata": {},
   "outputs": [
    {
     "name": "stdout",
     "output_type": "stream",
     "text": [
      "<!DOCTYPE HTML PUBLIC \"-//W3C//DTD HTML 3.2 Final//EN\">\n",
      "<title>500 Internal Server Error</title>\n",
      "<h1>Internal Server Error</h1>\n",
      "<p>The server encountered an internal error and was unable to complete your request. Either the server is overloaded or there is an error in the application.</p>\n",
      "\n"
     ]
    }
   ],
   "source": [
    "import hashlib\n",
    "\n",
    "import requests\n",
    "\n",
    "api_url = \"http://172.16.10.138:2000/\"\n",
    "# with open(im_path, \"rb\") as f:\n",
    "\n",
    "im_path = \"im.png\"\n",
    "\n",
    "with open(im_path, \"rb\") as f:\n",
    "    im_bytes = f.read()\n",
    "    \n",
    "im_hash = str(hashlib.md5(im_bytes).hexdigest())\n",
    "\n",
    "files = {\n",
    "    \"media\": 'im'\n",
    "}\n",
    "\n",
    "\n",
    "response = requests.post(api_url, files=files)\n",
    "# print(im_hash)\n",
    "print(response.text)\n",
    "# print(im_hash)"
   ]
  },
  {
   "cell_type": "code",
   "execution_count": null,
   "id": "0e19dc0e",
   "metadata": {},
   "outputs": [],
   "source": []
  }
 ],
 "metadata": {
  "kernelspec": {
   "display_name": "Python 3 (ipykernel)",
   "language": "python",
   "name": "python3"
  },
  "language_info": {
   "codemirror_mode": {
    "name": "ipython",
    "version": 3
   },
   "file_extension": ".py",
   "mimetype": "text/x-python",
   "name": "python",
   "nbconvert_exporter": "python",
   "pygments_lexer": "ipython3",
   "version": "3.9.13"
  }
 },
 "nbformat": 4,
 "nbformat_minor": 5
}
