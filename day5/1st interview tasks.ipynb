{
 "cells": [
  {
   "cell_type": "code",
   "execution_count": 1,
   "id": "da189593",
   "metadata": {},
   "outputs": [
    {
     "name": "stdout",
     "output_type": "stream",
     "text": [
      "{1: 1, 2: 4, 3: 9, 4: 16, 5: 25, 6: 36, 7: 49, 8: 64, 9: 81, 10: 100}\n"
     ]
    }
   ],
   "source": [
    "square_dict = dict()\n",
    "for num in range(1, 11):\n",
    "    square_dict[num] = num*num\n",
    "print(square_dict)"
   ]
  },
  {
   "cell_type": "code",
   "execution_count": 4,
   "id": "bfe8cbbd",
   "metadata": {},
   "outputs": [],
   "source": [
    "def solution(x):\n",
    "    abc = \"abcdefghijklmnopqrstuvwxyz\"\n",
    "    rev_abc = abc[::-1]\n",
    "    result = \"\"\n",
    "    dic = {k:val for k,val in zip(abc,rev_abc)}\n",
    "    for i in x:\n",
    "        if i == i.upper() or i not in dic:\n",
    "            result += i\n",
    "        else:\n",
    "            result += dic.get(i)\n",
    "    return result"
   ]
  },
  {
   "cell_type": "code",
   "execution_count": 5,
   "id": "90e35fc3",
   "metadata": {},
   "outputs": [
    {
     "name": "stdout",
     "output_type": "stream",
     "text": [
      "a\n"
     ]
    }
   ],
   "source": [
    "print(solution(\"z\"))"
   ]
  },
  {
   "cell_type": "code",
   "execution_count": 6,
   "id": "23eb8513",
   "metadata": {},
   "outputs": [],
   "source": [
    "def solution(n):\n",
    "    result = \"\"\n",
    "    while(n>0):\n",
    "        index = (n - 1) % 26\n",
    "        result += chr(index + ord('A'))\n",
    "        n = (n - 1) // 26\n",
    "    return result[::-1]"
   ]
  },
  {
   "cell_type": "code",
   "execution_count": 7,
   "id": "b388db23",
   "metadata": {},
   "outputs": [
    {
     "name": "stdout",
     "output_type": "stream",
     "text": [
      "GJH\n"
     ]
    }
   ],
   "source": [
    "print(solution(5000))"
   ]
  },
  {
   "cell_type": "code",
   "execution_count": 9,
   "id": "4b9cb895",
   "metadata": {},
   "outputs": [
    {
     "ename": "SyntaxError",
     "evalue": "invalid syntax (2583829896.py, line 2)",
     "output_type": "error",
     "traceback": [
      "\u001b[0;36m  File \u001b[0;32m\"/tmp/ipykernel_11511/2583829896.py\"\u001b[0;36m, line \u001b[0;32m2\u001b[0m\n\u001b[0;31m    print(k([\"1.1.2\", \"1.0.0\", \"1.3.3\", \"1.0.12\", \"1.0.2\"]))\u001b[0m\n\u001b[0m        ^\u001b[0m\n\u001b[0;31mSyntaxError\u001b[0m\u001b[0;31m:\u001b[0m invalid syntax\n"
     ]
    }
   ],
   "source": [
    "key=lambda s: map(int, s.split('.')\n",
    "print(k([\"1.1.2\", \"1.0.0\", \"1.3.3\", \"1.0.12\", \"1.0.2\"]))"
   ]
  },
  {
   "cell_type": "code",
   "execution_count": 12,
   "id": "7223dfda",
   "metadata": {},
   "outputs": [],
   "source": [
    "def solution(l):\n",
    "    list1 = []\n",
    "    for x in l:\n",
    "        list1.append(x.split(\".\"))\n",
    "    list2 = []\n",
    "    for y in list1:\n",
    "        y = list(map(int, y))\n",
    "        list2.append(y)\n",
    "    dic = {k:val for k, val in zip(l,list2) }\n",
    "    list3 = sorted(dic)\n",
    "    return list3"
   ]
  },
  {
   "cell_type": "code",
   "execution_count": 15,
   "id": "74a93517",
   "metadata": {},
   "outputs": [
    {
     "name": "stdout",
     "output_type": "stream",
     "text": [
      "['1.0', '1.0.12', '1.0.2', '1.1.2', '1.3.3']\n"
     ]
    }
   ],
   "source": [
    "print(solution([\"1.1.2\", \"1.0\", \"1.3.3\", \"1.0.12\", \"1.0.2\"]))"
   ]
  },
  {
   "cell_type": "code",
   "execution_count": 16,
   "id": "63b68ba7",
   "metadata": {},
   "outputs": [
    {
     "name": "stdout",
     "output_type": "stream",
     "text": [
      "[0, 1, 2, 9, 'Jack', 'King', 'Ace']\n"
     ]
    }
   ],
   "source": [
    "def solution(l):\n",
    "    dic = {'1':1,'2':2,'3':3,'4':4,'5':5,'6':6,'7':7,'8':8,'9':9,'10':10,'Jack':11,'Queen':12,'King':13,'Ace':14}\n",
    "    \n",
    "    return(sorted(l, key = lambda item: dic.get(item,item) ))\n",
    "\n",
    "print(solution([2,9,'Jack','Ace',1,'King',0]))"
   ]
  },
  {
   "cell_type": "code",
   "execution_count": 17,
   "id": "70168197",
   "metadata": {},
   "outputs": [
    {
     "name": "stdout",
     "output_type": "stream",
     "text": [
      "3\n"
     ]
    }
   ],
   "source": [
    "matrix = [[1,2,3],[4,5,6],[7,8,9]]\n",
    "print(len(matrix))"
   ]
  },
  {
   "cell_type": "code",
   "execution_count": 19,
   "id": "c7640ae7",
   "metadata": {},
   "outputs": [
    {
     "ename": "SyntaxError",
     "evalue": "invalid syntax (3757379489.py, line 11)",
     "output_type": "error",
     "traceback": [
      "\u001b[0;36m  File \u001b[0;32m\"/tmp/ipykernel_11511/3757379489.py\"\u001b[0;36m, line \u001b[0;32m11\u001b[0m\n\u001b[0;31m    if result =\u001b[0m\n\u001b[0m              ^\u001b[0m\n\u001b[0;31mSyntaxError\u001b[0m\u001b[0;31m:\u001b[0m invalid syntax\n"
     ]
    }
   ],
   "source": [
    "def factorial(n):\n",
    "    if n == 1: return 1\n",
    "    return n*factorial(n-1)\n",
    "\n",
    "def solution(n):\n",
    "    result = 0\n",
    "    while(n>0):\n",
    "        rem = n % 10\n",
    "        result += factorial(rem)\n",
    "        n /= 10\n",
    "    if result ="
   ]
  },
  {
   "cell_type": "code",
   "execution_count": 21,
   "id": "473d9c10",
   "metadata": {},
   "outputs": [
    {
     "name": "stdout",
     "output_type": "stream",
     "text": [
      "[]\n",
      "[]\n"
     ]
    }
   ],
   "source": [
    "import os\n",
    "import glob\n",
    "\n",
    "images_list = glob.glob(\"images/*.*\")\n",
    "labels_list = glob.glob(\"labels/*.*\")\n",
    "\n",
    "\n",
    "print(images_list)\n",
    "print(labels_list)\n",
    "\n",
    "if not os.path.exists(\"final\"):\n",
    "    os.mkdir(\"final\")\n",
    "\n",
    "# your code here\n",
    "\n"
   ]
  }
 ],
 "metadata": {
  "kernelspec": {
   "display_name": "Python 3 (ipykernel)",
   "language": "python",
   "name": "python3"
  },
  "language_info": {
   "codemirror_mode": {
    "name": "ipython",
    "version": 3
   },
   "file_extension": ".py",
   "mimetype": "text/x-python",
   "name": "python",
   "nbconvert_exporter": "python",
   "pygments_lexer": "ipython3",
   "version": "3.9.13"
  }
 },
 "nbformat": 4,
 "nbformat_minor": 5
}
