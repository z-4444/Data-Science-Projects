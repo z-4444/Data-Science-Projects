{
 "cells": [
  {
   "cell_type": "code",
   "execution_count": 17,
   "id": "9fb9f3db",
   "metadata": {},
   "outputs": [
    {
     "name": "stdout",
     "output_type": "stream",
     "text": [
      "/home/z-4444/DS_trainning/git hub\n"
     ]
    },
    {
     "data": {
      "text/plain": [
       "['.ipynb_checkpoints',\n",
       " 'day3_t1',\n",
       " 'os',\n",
       " 'flask',\n",
       " 'Untitled.ipynb',\n",
       " 'Untitled2.ipynb',\n",
       " 'Untitled8.ipynb',\n",
       " 'Untitled3.ipynb',\n",
       " 'nohup.out',\n",
       " 'files',\n",
       " 'dice and coin game day 4.ipynb',\n",
       " 'Untitled6.ipynb',\n",
       " 'Untitled7.ipynb',\n",
       " 'Untitled1.ipynb',\n",
       " 'im.png',\n",
       " 'Untitled4.ipynb']"
      ]
     },
     "execution_count": 17,
     "metadata": {},
     "output_type": "execute_result"
    }
   ],
   "source": [
    "import os\n",
    "cwd = os.getcwd()\n",
    "# os.mkdir('os/module')\n",
    "print(cwd)\n",
    "# new_cwd = os.chdir('/home/z-4444/DS_trainning/day4')\n",
    "# print(new_cwd)\n",
    "os.listdir(cwd)"
   ]
  },
  {
   "cell_type": "code",
   "execution_count": 18,
   "id": "d660dfa6",
   "metadata": {},
   "outputs": [
    {
     "name": "stdout",
     "output_type": "stream",
     "text": [
      "Email: rafayrana036@gmail.com\n",
      "Error calling solution(5) in 428552.py: name 'x' is not defined\n",
      "Email: khanhabibullah597@gmail.com\n",
      "Error calling solution(5) in 2.py: name 'x' is not defined\n",
      "Email: mahsanars99@gmail.com\n",
      "Result of solution(5): 465\n",
      "Email: saadbinsohail2@gmail.com\n",
      "Result of solution(5): 215\n",
      "Email: noumanaziz1994@gmail.com\n",
      "Result of solution(5): 230\n",
      "Email: mrizwanakram38@gmail.com\n",
      "Error calling solution(5) in 420899.py: module '420899' has no attribute 'solution'\n",
      "Email: farhansaddique8544@gmail.com\n",
      "Result of solution(5): 380\n",
      "No 'email' variable found in 482121.py\n",
      "Result of solution(5): 315\n",
      "Email: mshahzadsial88@gmail.com\n",
      "Result of solution(5): 325\n",
      "Email: syed277526@gmail.com\n",
      "Result of solution(5): 460\n",
      "Email: mkhurramsahil@gmail.com\n",
      "Result of solution(5): 10\n",
      "Email: Muhammadbilalafzal1@gmail.com\n",
      "Result of solution(5): 345\n",
      "Email: mkhayyamulhaq@gmail.com\n",
      "Result of solution(5): 195\n",
      "Email: ansarbhullar90@gmail.com\n",
      "Error calling solution(5) in 589258.py: module '589258' has no attribute 'solution'\n",
      "Email: mansoorsaman404@gmail.com\n",
      "Result of solution(5): 340\n",
      "Email: Mahmadnawaz97@gmail.com\n",
      "Result of solution(5): 310\n",
      "Email: syedasadullah14@gmail.com\n",
      "Error calling solution(5) in 122444.py: name 'x' is not defined\n",
      "Email: mzahid04040@gmail.com\n",
      "Result of solution(5): 305\n",
      "Email: hussnainarshad85@gmail.com\n",
      "Error calling solution(5) in 61223.py: name 'x' is not defined\n"
     ]
    }
   ],
   "source": [
    "import os\n",
    "import importlib.util\n",
    "\n",
    "# Change directory to day3_t1\n",
    "os.chdir('day3_t1')\n",
    "\n",
    "# Get a list of all the Python files in the directory\n",
    "py_files = [f for f in os.listdir('.') if os.path.isfile(f) and f.endswith('.py')]\n",
    "\n",
    "# Loop through the files\n",
    "for file in py_files:\n",
    "    # Import the module\n",
    "    spec = importlib.util.spec_from_file_location(file[:-3], file)\n",
    "    module = importlib.util.module_from_spec(spec)\n",
    "    spec.loader.exec_module(module)\n",
    "\n",
    "    # Get the value of the 'email' variable\n",
    "    try:\n",
    "        email = module.email\n",
    "        print(f\"Email: {email}\")\n",
    "    except AttributeError:\n",
    "        print(f\"No 'email' variable found in {file}\")\n",
    "\n",
    "    # Call the 'solution' function with a hardcoded value of 5\n",
    "    try:\n",
    "        result = module.solution(5)\n",
    "        print(f\"Result of solution(5): {result}\")\n",
    "    except Exception as e:\n",
    "        print(f\"Error calling solution(5) in {file}: {e}\")"
   ]
  },
  {
   "cell_type": "code",
   "execution_count": 19,
   "id": "3a316b67",
   "metadata": {},
   "outputs": [
    {
     "ename": "SyntaxError",
     "evalue": "invalid syntax (192903281.py, line 1)",
     "output_type": "error",
     "traceback": [
      "\u001b[0;36m  File \u001b[0;32m\"/tmp/ipykernel_8188/192903281.py\"\u001b[0;36m, line \u001b[0;32m1\u001b[0m\n\u001b[0;31m    Hello, World!\u001b[0m\n\u001b[0m                ^\u001b[0m\n\u001b[0;31mSyntaxError\u001b[0m\u001b[0;31m:\u001b[0m invalid syntax\n"
     ]
    }
   ],
   "source": []
  },
  {
   "cell_type": "code",
   "execution_count": null,
   "id": "b04b3ac5",
   "metadata": {},
   "outputs": [],
   "source": []
  }
 ],
 "metadata": {
  "kernelspec": {
   "display_name": "Python 3 (ipykernel)",
   "language": "python",
   "name": "python3"
  },
  "language_info": {
   "codemirror_mode": {
    "name": "ipython",
    "version": 3
   },
   "file_extension": ".py",
   "mimetype": "text/x-python",
   "name": "python",
   "nbconvert_exporter": "python",
   "pygments_lexer": "ipython3",
   "version": "3.9.13"
  }
 },
 "nbformat": 4,
 "nbformat_minor": 5
}
