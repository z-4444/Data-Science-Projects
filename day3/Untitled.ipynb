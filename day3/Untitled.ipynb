{
 "cells": [
  {
   "cell_type": "code",
   "execution_count": 24,
   "id": "c50538b4",
   "metadata": {},
   "outputs": [
    {
     "name": "stdout",
     "output_type": "stream",
     "text": [
      "['t/images/1.jpeg', 't/images/9.jpeg', 't/images/xyz.jpeg', 't/images/45.jpeg', 't/images/lmn.jpeg', 't/images/aa.jpeg']\n",
      "['t/labels/9.txt', 't/labels/xyz.txt', 't/labels/lmn.txt']\n"
     ]
    }
   ],
   "source": [
    "import os\n",
    "import glob\n",
    "import shutil\n",
    "\n",
    "images_list = glob.glob(\"t/images/*.*\")\n",
    "labels_list = glob.glob(\"t/labels/*.*\")\n",
    "\n",
    "\n",
    "print(images_list)\n",
    "print(labels_list)\n",
    "\n",
    "if not os.path.exists(\"t/final\"):\n",
    "    os.mkdir(\"t/final\")\n",
    "src_dirc = \"t/images\"\n",
    "lab_dirc = \"t/labels\"\n",
    "dest_dirc = \"t/final\"\n",
    "\n",
    "files_src = os.listdir(src_dirc)\n",
    "files_lab = os.listdir(lab_dirc)\n",
    "\n",
    "li_lab = [x.split('.')[0] for x in files_lab]\n",
    "\n",
    "for fname in files_src:\n",
    "    if fname.split('.')[0] in li_lab:\n",
    "       shutil.copy2(os.path.join(src_dirc,fname), dest_dirc)\n",
    "\n",
    "\n"
   ]
  },
  {
   "cell_type": "code",
   "execution_count": 27,
   "id": "ec6c8765",
   "metadata": {},
   "outputs": [
    {
     "name": "stdout",
     "output_type": "stream",
     "text": [
      "dict_items([('my', 2), ('name', 4), ('is', 2), ('zahid', 5)])\n",
      "<class 'dict_items'>\n"
     ]
    }
   ],
   "source": [
    "dic ={\"my\":2, \"name\":4, \"is\":2, \"zahid\":5}\n",
    "item = dic.items()\n",
    "print(item)\n",
    "print(type(item))"
   ]
  },
  {
   "cell_type": "code",
   "execution_count": 33,
   "id": "7b88b278",
   "metadata": {},
   "outputs": [
    {
     "name": "stdout",
     "output_type": "stream",
     "text": [
      "My hovercraft is full of eels.\n",
      "My hovercraft is full of 'eels'.\n",
      "My hovercraft is full of 'eels'.\n",
      "My hovercraft is full of eels.\n"
     ]
    }
   ],
   "source": [
    "animals = 'eels'\n",
    "print(f'My hovercraft is full of {animals}.')\n",
    "print(f'My hovercraft is full of {animals!r}.')\n",
    "print(f'My hovercraft is full of {animals!a}.')\n",
    "print(f'My hovercraft is full of {animals!s}.')"
   ]
  },
  {
   "cell_type": "code",
   "execution_count": 41,
   "id": "1e6a04cc",
   "metadata": {},
   "outputs": [
    {
     "name": "stdout",
     "output_type": "stream",
     "text": [
      "name of my friends are : usman, usman, naveed, umar\n"
     ]
    }
   ],
   "source": [
    "import json\n",
    "import os\n",
    "try:\n",
    "    with open(\"file.txt\",'r') as f:\n",
    "        name = json.load(f)\n",
    "        print(f\"name of my friends are : {name}\")\n",
    "except FileNotFoundError:\n",
    "    name = input(\"enter name of your friends : \")\n",
    "    with open(\"file.txt\", 'w+') as f:\n",
    "        json.dump(name,f)\n",
    " "
   ]
  },
  {
   "cell_type": "code",
   "execution_count": 46,
   "id": "59da01f1",
   "metadata": {},
   "outputs": [
    {
     "name": "stdout",
     "output_type": "stream",
     "text": [
      "[[1, 1, 1], [1, 1, 1], [1, 1, 1]]\n"
     ]
    }
   ],
   "source": [
    "row, col = (3,3)\n",
    "arr = [[1]*col]*row\n",
    "print(arr)"
   ]
  },
  {
   "cell_type": "code",
   "execution_count": 55,
   "id": "a595ba41",
   "metadata": {},
   "outputs": [
    {
     "data": {
      "text/plain": [
       "[[1, 1, 1, 1], [1, 1, 1, 1], [1, 1, 1, 1], [1, 1, 1, 1]]"
      ]
     },
     "execution_count": 55,
     "metadata": {},
     "output_type": "execute_result"
    }
   ],
   "source": [
    "row, col = (4,4)\n",
    "[[ 1 for i in range(col)] for j in range(row)]"
   ]
  },
  {
   "cell_type": "code",
   "execution_count": 68,
   "id": "9f9dcf4c",
   "metadata": {},
   "outputs": [],
   "source": [
    "def rotLeft(a, d):\n",
    "    if len(a)< d:\n",
    "        return 0\n",
    "    first_half = a[:d]\n",
    "    second_half = a[d:]\n",
    "    print(first_half,second_half)\n",
    "    second_half.extend(first_half)\n",
    "    return(second_half)\n",
    "    "
   ]
  },
  {
   "cell_type": "code",
   "execution_count": 69,
   "id": "c44773c4",
   "metadata": {},
   "outputs": [
    {
     "name": "stdout",
     "output_type": "stream",
     "text": [
      "[1, 2] [3, 4, 5]\n",
      "[3, 4, 5, 1, 2]\n"
     ]
    }
   ],
   "source": [
    "a = [1,2,3,4,5]\n",
    "d = 2\n",
    "print(rotLeft(a,d))"
   ]
  },
  {
   "cell_type": "code",
   "execution_count": 73,
   "id": "a5200765",
   "metadata": {},
   "outputs": [
    {
     "name": "stdout",
     "output_type": "stream",
     "text": [
      "{1, 2, 3}\n",
      "[1, 2, 3]\n"
     ]
    }
   ],
   "source": [
    "se = {1,2,3}\n",
    "print(se)\n",
    "print(list(se))"
   ]
  },
  {
   "cell_type": "code",
   "execution_count": 76,
   "id": "9078a1d9",
   "metadata": {},
   "outputs": [
    {
     "name": "stdout",
     "output_type": "stream",
     "text": [
      "{1, 2, 3}\n"
     ]
    }
   ],
   "source": [
    "a = set((1,2,3))\n",
    "print(a)"
   ]
  },
  {
   "cell_type": "code",
   "execution_count": 88,
   "id": "7862f03b",
   "metadata": {},
   "outputs": [
    {
     "data": {
      "text/plain": [
       "{'num1': 1, 'num2': 34, 'num3': 3, 'num4': 4, 'num5': 5, 'num6': 6}"
      ]
     },
     "execution_count": 88,
     "metadata": {},
     "output_type": "execute_result"
    }
   ],
   "source": [
    "my_dict = { 'num6': 6, 'num3': 3, 'num2': 34, 'num4': 4, 'num1': 1, 'num5': 5}\n",
    "t = sorted(my_dict.items())\n",
    "dict(t)"
   ]
  },
  {
   "cell_type": "code",
   "execution_count": 91,
   "id": "8630f10d",
   "metadata": {},
   "outputs": [
    {
     "name": "stdout",
     "output_type": "stream",
     "text": [
      "24\n"
     ]
    }
   ],
   "source": [
    "import U\n",
    "print(U.factorial(4))"
   ]
  },
  {
   "cell_type": "code",
   "execution_count": null,
   "id": "d7908caf",
   "metadata": {},
   "outputs": [],
   "source": []
  },
  {
   "cell_type": "code",
   "execution_count": 106,
   "id": "998d6179",
   "metadata": {},
   "outputs": [
    {
     "name": "stdout",
     "output_type": "stream",
     "text": [
      "['/home/z-4444/DS_trainning/day3/day3_t1/428552.py', '/home/z-4444/DS_trainning/day3/day3_t1/2.py', '/home/z-4444/DS_trainning/day3/day3_t1/711701.py', '/home/z-4444/DS_trainning/day3/day3_t1/329067.py', '/home/z-4444/DS_trainning/day3/day3_t1/352025.py', '/home/z-4444/DS_trainning/day3/day3_t1/420899.py', '/home/z-4444/DS_trainning/day3/day3_t1/581606.py', '/home/z-4444/DS_trainning/day3/day3_t1/482121.py', '/home/z-4444/DS_trainning/day3/day3_t1/497426.py', '/home/z-4444/DS_trainning/day3/day3_t1/704048.py', '/home/z-4444/DS_trainning/day3/day3_t1/15307.py', '/home/z-4444/DS_trainning/day3/day3_t1/528037.py', '/home/z-4444/DS_trainning/day3/day3_t1/298456.py', '/home/z-4444/DS_trainning/day3/day3_t1/589258.py', '/home/z-4444/DS_trainning/day3/day3_t1/520384.py', '/home/z-4444/DS_trainning/day3/day3_t1/474468.py', '/home/z-4444/DS_trainning/day3/day3_t1/122444.py', '/home/z-4444/DS_trainning/day3/day3_t1/466815.py', '/home/z-4444/DS_trainning/day3/day3_t1/61223.py']\n"
     ]
    },
    {
     "ename": "IndexError",
     "evalue": "list index out of range",
     "output_type": "error",
     "traceback": [
      "\u001b[0;31m---------------------------------------------------------------------------\u001b[0m",
      "\u001b[0;31mIndexError\u001b[0m                                Traceback (most recent call last)",
      "\u001b[0;32m/tmp/ipykernel_14022/3841549117.py\u001b[0m in \u001b[0;36m<module>\u001b[0;34m\u001b[0m\n\u001b[1;32m     13\u001b[0m     \u001b[0;32mwith\u001b[0m \u001b[0mopen\u001b[0m\u001b[0;34m(\u001b[0m\u001b[0mfile\u001b[0m\u001b[0;34m,\u001b[0m \u001b[0;34m\"r\"\u001b[0m\u001b[0;34m)\u001b[0m \u001b[0;32mas\u001b[0m \u001b[0mf\u001b[0m\u001b[0;34m:\u001b[0m\u001b[0;34m\u001b[0m\u001b[0;34m\u001b[0m\u001b[0m\n\u001b[1;32m     14\u001b[0m         \u001b[0mcontents\u001b[0m \u001b[0;34m=\u001b[0m \u001b[0mf\u001b[0m\u001b[0;34m.\u001b[0m\u001b[0mread\u001b[0m\u001b[0;34m(\u001b[0m\u001b[0;34m)\u001b[0m\u001b[0;34m\u001b[0m\u001b[0;34m\u001b[0m\u001b[0m\n\u001b[0;32m---> 15\u001b[0;31m         \u001b[0memail\u001b[0m \u001b[0;34m=\u001b[0m \u001b[0mcontents\u001b[0m\u001b[0;34m.\u001b[0m\u001b[0msplit\u001b[0m\u001b[0;34m(\u001b[0m\u001b[0;34m\"email = '\"\u001b[0m\u001b[0;34m)\u001b[0m\u001b[0;34m[\u001b[0m\u001b[0;36m1\u001b[0m\u001b[0;34m]\u001b[0m\u001b[0;34m.\u001b[0m\u001b[0msplit\u001b[0m\u001b[0;34m(\u001b[0m\u001b[0;34m\"'\"\u001b[0m\u001b[0;34m)\u001b[0m\u001b[0;34m[\u001b[0m\u001b[0;36m0\u001b[0m\u001b[0;34m]\u001b[0m\u001b[0;34m\u001b[0m\u001b[0;34m\u001b[0m\u001b[0m\n\u001b[0m\u001b[1;32m     16\u001b[0m \u001b[0;34m\u001b[0m\u001b[0m\n\u001b[1;32m     17\u001b[0m     \u001b[0mmodule_name\u001b[0m \u001b[0;34m=\u001b[0m \u001b[0mos\u001b[0m\u001b[0;34m.\u001b[0m\u001b[0mpath\u001b[0m\u001b[0;34m.\u001b[0m\u001b[0mbasename\u001b[0m\u001b[0;34m(\u001b[0m\u001b[0mfile\u001b[0m\u001b[0;34m)\u001b[0m\u001b[0;34m[\u001b[0m\u001b[0;34m:\u001b[0m\u001b[0;34m-\u001b[0m\u001b[0;36m3\u001b[0m\u001b[0;34m]\u001b[0m\u001b[0;34m\u001b[0m\u001b[0;34m\u001b[0m\u001b[0m\n",
      "\u001b[0;31mIndexError\u001b[0m: list index out of range"
     ]
    }
   ],
   "source": [
    "# import importlib\n",
    "# import os\n",
    "import os\n",
    "import glob\n",
    "\n",
    "current_direc = os.getcwd()\n",
    "file_path = 'day3_t1'\n",
    "new_path = os.path.join(current_direc, file_path)\n",
    "files = glob.glob(os.path.join(new_path, \"*.py\"))\n",
    "\n",
    "print(files)\n",
    "for file in files:\n",
    "    with open(file, \"r\") as f:\n",
    "        contents = f.read()\n",
    "        email = contents.split(\"email = '\")[1].split(\"'\")[0]\n",
    "    \n",
    "    module_name = os.path.basename(file)[:-3]\n",
    "    try:\n",
    "        module = __import__(\"day3_t1.\" + module_name)\n",
    "        solution_value = module.solution(5)\n",
    "        print(f\"File:\\t\\t {file_path}\")\n",
    "        print(f\"Email:\\t\\t {email}\")\n",
    "        print(f\"solution(5):\\t {solution_value}\")\n",
    "    except AttributeError:\n",
    "        print(f\"File:\\t\\t {file_path}\")\n",
    "        print(f\"Email:\\t\\t {email}\")\n",
    "        print(f\"solution(5):\\t Exception: \\\" module 'day3_t1.{module_name}' has no attribute 'solution' \\\" \")\n",
    "    except NameError as e:\n",
    "        print(f\"File:\\t\\t {file_path}\")\n",
    "        print(f\"Email:\\t\\t {email}\")\n",
    "        print(f\"solution(5):\\t Exception: \\\"{e}\\\" \")\n",
    "    except Exception as e:\n",
    "        print(f\"File:\\t\\t {file_path}\")\n",
    "        print(f\"Email:\\t\\t {email}\")\n",
    "        print(f\"solution(5):\\t Exception: \\\"{e}\\\" \")\n",
    "    print(\"_____\")"
   ]
  }
 ],
 "metadata": {
  "kernelspec": {
   "display_name": "Python 3 (ipykernel)",
   "language": "python",
   "name": "python3"
  },
  "language_info": {
   "codemirror_mode": {
    "name": "ipython",
    "version": 3
   },
   "file_extension": ".py",
   "mimetype": "text/x-python",
   "name": "python",
   "nbconvert_exporter": "python",
   "pygments_lexer": "ipython3",
   "version": "3.9.13"
  }
 },
 "nbformat": 4,
 "nbformat_minor": 5
}
